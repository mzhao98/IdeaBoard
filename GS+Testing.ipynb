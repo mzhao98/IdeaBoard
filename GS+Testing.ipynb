{
 "cells": [
  {
   "cell_type": "code",
   "execution_count": 170,
   "metadata": {},
   "outputs": [],
   "source": [
    "import numpy as np\n",
    "from scipy.stats import bernoulli\n",
    "import matplotlib.pyplot as plt\n",
    "from scipy.special import comb\n",
    "import seaborn\n",
    "import math\n",
    "import scipy.stats\n",
    "from pyearth import Earth\n",
    "from sklearn.linear_model import LinearRegression"
   ]
  },
  {
   "cell_type": "markdown",
   "metadata": {},
   "source": [
    "# 1. Simulate Data"
   ]
  },
  {
   "cell_type": "code",
   "execution_count": 303,
   "metadata": {},
   "outputs": [],
   "source": [
    "class Data_Stuff():\n",
    "        \n",
    "    def __init__(self, mean, std, n):\n",
    "        self.n = n\n",
    "        self.data = np.absolute(np.random.normal(mean/4, std, size = 50))\n",
    "        self.data = np.absolute(np.append(self.data, np.random.normal(mean, std, size = 100)))\n",
    "        self.data = np.absolute(np.append(self.data, np.random.normal(mean*3, std, size = 50)))\n",
    "        self.data = np.absolute(np.append(self.data, np.random.normal(mean*2, std, size = 50)))\n",
    "        self.data = np.absolute(np.append(self.data, np.random.normal(mean*3, std, size = 50)))\n",
    "        \n",
    "    def plot_series(self):\n",
    "        plt.plot(range(len(self.data)), self.data)\n",
    "        plt.show()\n",
    "        plt.close()\n",
    "        return\n",
    "\n",
    "    def get_pdf(self):\n",
    "        hist = np.histogram(self.data, bins=100)\n",
    "        hist_dist = scipy.stats.rv_histogram(hist)\n",
    "        return hist_dist\n",
    "\n",
    "    def plot_pdf(self):\n",
    "        plt.hist(self.data, bins = 100)\n",
    "        plt.show()\n",
    "        plt.close()\n",
    "        return \n",
    "\n",
    "    def plot_cdf_pdf(self):\n",
    "        X = np.linspace(-5.0, 5.0, 100)\n",
    "        plt.title(\"PDF and CDF\")\n",
    "        plt.hist(self.data, density=True, bins=100)\n",
    "        hist = np.histogram(self.data, bins=100)\n",
    "        hist_dist = scipy.stats.rv_histogram(hist)\n",
    "#         plt.plot(X, hist_dist.pdf(X), label='PDF')\n",
    "#         plt.plot(X, hist_dist.cdf(X), label='CDF')\n",
    "#         plt.show()\n",
    "        return\n",
    "    \n",
    "    def plot_cdf(self):\n",
    "        cdf_data = [sum(self.data[:i]) for i in range(len(self.data))]\n",
    "#         plt.plot(range(len(cdf_data)), cdf_data)\n",
    "#         plt.show()\n",
    "#         plt.close()\n",
    "        return np.array(cdf_data)"
   ]
  },
  {
   "cell_type": "markdown",
   "metadata": {},
   "source": [
    "# 2. Spline Regression"
   ]
  },
  {
   "cell_type": "code",
   "execution_count": 266,
   "metadata": {},
   "outputs": [
    {
     "name": "stdout",
     "output_type": "stream",
     "text": [
      "Forward Pass\n",
      "-----------------------------------------------------------------------------------\n",
      "iter  parent  var  knot  mse                 terms  gcv              rsq    grsq   \n",
      "-----------------------------------------------------------------------------------\n",
      "0     -       -    -     54494160596.362457  1      55043216682.773  0.000  0.000  \n",
      "1     0       0    189   12863825.301680     3      13671830.483     1.000  1.000  \n",
      "-----------------------------------------------------------------------------------\n",
      "Stopping Condition 1: Achieved RSQ value within threshold of 1\n",
      "\n",
      "Pruning Pass\n",
      "----------------------------------------------------------------\n",
      "iter  bf  terms  mse             gcv              rsq    grsq   \n",
      "----------------------------------------------------------------\n",
      "0     -   3      12863825.30     13671830.483     1.000  1.000  \n",
      "1     1   2      72774812.36     75390387.624     0.999  0.999  \n",
      "2     2   1      54494160596.36  55043216682.773  0.000  0.000  \n",
      "----------------------------------------------------------------\n",
      "Selected iteration: 0\n",
      "\n",
      "Earth Model\n",
      "-------------------------------------\n",
      "Basis Function  Pruned  Coefficient  \n",
      "-------------------------------------\n",
      "(Intercept)     No      742942       \n",
      "h(x0-735849)    No      1.10107      \n",
      "h(735849-x0)    No      -1.00712     \n",
      "-------------------------------------\n",
      "MSE: 12863825.3016, GCV: 13671830.4832, RSQ: 0.9998, GRSQ: 0.9998\n"
     ]
    },
    {
     "name": "stderr",
     "output_type": "stream",
     "text": [
      "/Users/michellezhao/anaconda3/lib/python3.6/site-packages/pyearth/earth.py:802: FutureWarning: `rcond` parameter will change to the default of machine precision times ``max(M, N)`` where M and N are the input matrix dimensions.\n",
      "To use the future default and silence this warning we advise to pass `rcond=None`, to keep using the old, explicitly pass `rcond=-1`.\n",
      "  pruning_passer.run()\n",
      "/Users/michellezhao/anaconda3/lib/python3.6/site-packages/pyearth/earth.py:1055: FutureWarning: `rcond` parameter will change to the default of machine precision times ``max(M, N)`` where M and N are the input matrix dimensions.\n",
      "To use the future default and silence this warning we advise to pass `rcond=None`, to keep using the old, explicitly pass `rcond=-1`.\n",
      "  coef, resid = np.linalg.lstsq(B, weighted_y[:, i])[0:2]\n"
     ]
    },
    {
     "data": {
      "image/png": "[encoded data removed]",
      "text/plain": [
       "<matplotlib.figure.Figure at 0x1a246fe860>"
      ]
     },
     "metadata": {},
     "output_type": "display_data"
    },
    {
     "data": {
      "image/png": "[encoded data removed]",
      "text/plain": [
       "<matplotlib.figure.Figure at 0x1a24f06fd0>"
      ]
     },
     "metadata": {},
     "output_type": "display_data"
    },
    {
     "data": {
      "text/plain": [
       "<pyearth._basis.Basis at 0x1a244bff88>"
      ]
     },
     "execution_count": 266,
     "metadata": {},
     "output_type": "execute_result"
    }
   ],
   "source": [
    "data = cdf_data\n",
    "m = len(data)\n",
    "n = 5 #look back\n",
    "X = np.zeros((m, n))\n",
    "for i in range(len(data)):\n",
    "    add = np.zeros(5)\n",
    "    for j in range(5):\n",
    "        if i-1-j < 0:\n",
    "            add[j] = 0\n",
    "        else:\n",
    "            add[j] = data[i-1-j]\n",
    "    X[i] = add\n",
    "model = Earth()\n",
    "model.fit(X,data)\n",
    "\n",
    "#Print the model\n",
    "print(model.trace())\n",
    "print(model.summary())\n",
    "\n",
    "#Plot the model\n",
    "y_hat = model.predict(X)\n",
    "plt.figure()\n",
    "#plt.plot(X[:,6],y,'r.')\n",
    "plt.plot(range(len(data)),data,'r.')\n",
    "plt.show()\n",
    "plt.plot(range(len(y_hat)),y_hat,'b.')\n",
    "#plt.xlabel('x_6')\n",
    "plt.ylabel('y')\n",
    "plt.title('Simple Earth Example')\n",
    "plt.show()\n",
    "\n",
    "model.basis_"
   ]
  },
  {
   "cell_type": "code",
   "execution_count": 148,
   "metadata": {},
   "outputs": [
    {
     "data": {
      "image/png": "[encoded data removed]",
      "text/plain": [
       "<matplotlib.figure.Figure at 0x1a24d65668>"
      ]
     },
     "metadata": {},
     "output_type": "display_data"
    },
    {
     "data": {
      "image/png": "[encoded data removed]",
      "text/plain": [
       "<matplotlib.figure.Figure at 0x1a24a3df60>"
      ]
     },
     "metadata": {},
     "output_type": "display_data"
    }
   ],
   "source": [
    "data2 = Data_Stuff(1000, 200, 100)\n",
    "cdf2 = data2.plot_cdf()\n",
    "m = len(cdf2)\n",
    "n = 5 #look back\n",
    "start_X = cdf2[1:6]\n",
    "\n",
    "y_hat = []\n",
    "for i in range(len(cdf2)-1):\n",
    "    inputs = np.array(start_X[-5:]).reshape(1,5)\n",
    "#     print(\"inputs\", inputs)\n",
    "    pred_y = model.predict(inputs)\n",
    "    y_hat.append(pred_y)\n",
    "#     print(\"pred y\", pred_y)\n",
    "    start_X.append(pred_y)\n",
    "    \n",
    "plt.figure()\n",
    "#plt.plot(X[:,6],y,'r.')\n",
    "plt.plot(range(len(cdf2)),cdf2,'r.')\n",
    "plt.plot(range(len(y_hat)),y_hat,'b.')\n",
    "#plt.xlabel('x_6')\n",
    "plt.ylabel('y')\n",
    "plt.title('Simple Earth Example')\n",
    "plt.show()\n"
   ]
  },
  {
   "cell_type": "code",
   "execution_count": 235,
   "metadata": {},
   "outputs": [],
   "source": [
    "def bin_time_by_volume(time_traded, quantities, nbins=100):\n",
    "    total_vol = sum(quantities)\n",
    "    bin_size = total_vol/nbins\n",
    "    intervals = []\n",
    "    start_time = min(time_traded)\n",
    "    end_time = max(time_traded)\n",
    "    count = 0\n",
    "    bins = []\n",
    "    bin_times = []\n",
    "    split_quantities = []\n",
    "    q = []\n",
    "    for i in range(len(time_traded)):\n",
    "        q.append(quantities[i])\n",
    "        count += quantities[i]\n",
    "        if i == len(time_traded)-1:\n",
    "            split_quantities.append(q)\n",
    "            bins.append(count)\n",
    "            bin_times.append((start_time, time_traded[i]))\n",
    "            break\n",
    "        if count >= bin_size:\n",
    "            split_quantities.append(q)\n",
    "            q = []\n",
    "            bins.append(count)\n",
    "            count = 0\n",
    "            bin_times.append((start_time, time_traded[i]))\n",
    "            start_time = time_traded[i]\n",
    "    return bins, bin_times, split_quantities\n",
    "        "
   ]
  },
  {
   "cell_type": "code",
   "execution_count": 296,
   "metadata": {
    "collapsed": true
   },
   "outputs": [],
   "source": [
    "def get_past_days_data(ndays = 5, is_cdf = False):\n",
    "    days = []\n",
    "    for d in range(ndays):\n",
    "        D = Data_Stuff(int(np.random.normal(100,10,1)), int(np.random.normal(50,10,1)), 100)\n",
    "        if is_cdf == True:\n",
    "            cdf = D.plot_cdf()\n",
    "            days.append(cdf)\n",
    "        else:\n",
    "            days.append(D.data)\n",
    "    return days"
   ]
  },
  {
   "cell_type": "code",
   "execution_count": 297,
   "metadata": {
    "collapsed": true
   },
   "outputs": [],
   "source": [
    "def get_features_from_past_days(days):\n",
    "    X = []\n",
    "    n = len(days[0])\n",
    "    for i in range(n):\n",
    "        past = [days[d].data[i] for d in range(len(days))]\n",
    "        X.append(past)\n",
    "#     print(X)\n",
    "    return np.array(X)"
   ]
  },
  {
   "cell_type": "code",
   "execution_count": 325,
   "metadata": {},
   "outputs": [],
   "source": [
    "def manual_spline_regression(X, data, nbins = 100):\n",
    "    print(\"X shape\", X.shape)\n",
    "    bins, bin_times, split_quantities = bin_time_by_volume(range(len(data)), data, nbins)\n",
    "    print(bin_times)\n",
    "    pred = []\n",
    "    actual = []\n",
    "    for b in range(nbins):\n",
    "        start = bin_times[b][0]\n",
    "        end = bin_times[b][1]\n",
    "        print(\"state\")\n",
    "        trainX = X[start:end]\n",
    "        trainY = data[start:end]\n",
    "        actual.append(trainY)\n",
    "        print('y shape', trainY.shape)\n",
    "        reg = LinearRegression().fit(trainX, trainY)\n",
    "        print(reg.coef_)\n",
    "        pred_y = reg.predict(trainX)\n",
    "        print('predicted y shape', pred_y.shape)\n",
    "        pred.append(pred_y)\n",
    "    return pred, actual"
   ]
  },
  {
   "cell_type": "code",
   "execution_count": 329,
   "metadata": {},
   "outputs": [],
   "source": [
    "def test_manual_spline(data, is_cdf = False):\n",
    "    days = get_past_days_data(5, is_cdf)\n",
    "    X = get_features_from_past_days(days)\n",
    "    pred, actual = manual_spline_regression(X, data, 5)\n",
    "    plot_pred = np.concatenate(pred)\n",
    "    plt.plot(range(len(data)), data, color = 'r')\n",
    "    plt.plot(range(len(plot_pred)), plot_pred, color = 'b')\n",
    "    plt.show()\n",
    "    return pred, actual"
   ]
  },
  {
   "cell_type": "markdown",
   "metadata": {},
   "source": [
    "# Error Metric Evaluation"
   ]
  },
  {
   "cell_type": "code",
   "execution_count": 340,
   "metadata": {
    "collapsed": true
   },
   "outputs": [],
   "source": [
    "def three_errors(actual_dist, pred_dist):\n",
    "    nbins = len(actual_dist)\n",
    "    pred_dist /= sum(pred_dist)\n",
    "    actual_dist /= sum(actual_dist)\n",
    "    rmse = math.sqrt(sum((pred_dist[i]-actual_dist[i])**2 for i in range(nbins)))\n",
    "    var_compare = (np.std(pred_dist)/np.mean(pred_dist))/(np.std(actual_dist)/np.mean(actual_dist))\n",
    "    overlap = sum(min(pred_dist[i], actual_dist[i]) for i in range(nbins))/sum(actual_dist)\n",
    "    print(\"rmse = \", rmse)\n",
    "    print(\"var = \", var_compare)\n",
    "    print(\"overlap = \", overlap)\n",
    "    return 1-math.sqrt((rmse - 1)**2 + (var_compare - 1)**2 + (overlap-1)**2)"
   ]
  },
  {
   "cell_type": "code",
   "execution_count": 338,
   "metadata": {},
   "outputs": [
    {
     "name": "stdout",
     "output_type": "stream",
     "text": [
      "X shape (300, 5)\n",
      "[(0, 174), (174, 218), (218, 251), (251, 278), (278, 299)]\n",
      "state\n",
      "y shape (174,)\n",
      "[ 0.09067253 -0.39449707 -0.3848146   1.54893285  0.09908827]\n",
      "predicted y shape (174,)\n",
      "state\n",
      "y shape (44,)\n",
      "[-0.59631683  0.39134187  0.57609538  1.11891663 -0.63215219]\n",
      "predicted y shape (44,)\n",
      "state\n",
      "y shape (33,)\n",
      "[ 0.65731446  0.23573847  0.24319897 -0.4951741   0.31782789]\n",
      "predicted y shape (33,)\n",
      "state\n",
      "y shape (27,)\n",
      "[-0.2446726   0.48697008  0.74872373 -0.3573229   0.32213752]\n",
      "predicted y shape (27,)\n",
      "state\n",
      "y shape (21,)\n",
      "[ 0.42509933 -0.22036226  0.20240758 -0.06908884  0.77255055]\n",
      "predicted y shape (21,)\n"
     ]
    },
    {
     "data": {
      "image/png": "[encoded data removed]",
      "text/plain": [
       "<matplotlib.figure.Figure at 0x1a246004a8>"
      ]
     },
     "metadata": {},
     "output_type": "display_data"
    }
   ],
   "source": [
    "# TESTING SPLINE\n",
    "D = Data_Stuff(100, 50, 10000)\n",
    "data = D.plot_cdf()\n",
    "pred, actual = test_manual_spline(data, is_cdf = True)"
   ]
  },
  {
   "cell_type": "code",
   "execution_count": 341,
   "metadata": {},
   "outputs": [
    {
     "name": "stdout",
     "output_type": "stream",
     "text": [
      "rmse =  0.0016942211789032116\n",
      "var =  0.9996166147453495\n",
      "overlap =  0.9909181493644771\n",
      "rmse =  0.00047023483368282756\n",
      "var =  0.999746537872894\n",
      "overlap =  0.9986743669171191\n",
      "rmse =  0.0002925068762654919\n",
      "var =  0.9994593616033928\n",
      "overlap =  0.9993174696053705\n",
      "rmse =  0.00024353757691538224\n",
      "var =  0.9997402804399865\n",
      "overlap =  0.999496834532512\n",
      "rmse =  9.96014922332035e-05\n",
      "var =  0.9999319146984513\n",
      "overlap =  0.9997957137759864\n",
      "ERROR =  0.0027572452838960926\n"
     ]
    }
   ],
   "source": [
    "error = 0\n",
    "for i in range(len(actual)):\n",
    "    error += three_errors(actual[i], pred[i])\n",
    "    \n",
    "print('ERROR = ', error)"
   ]
  },
  {
   "cell_type": "markdown",
   "metadata": {},
   "source": [
    "# SVD"
   ]
  },
  {
   "cell_type": "code",
   "execution_count": 358,
   "metadata": {},
   "outputs": [],
   "source": [
    "test = np.array([[50,60,30], [30,25,33], [4,50,60],[50,70,30]])"
   ]
  },
  {
   "cell_type": "code",
   "execution_count": 356,
   "metadata": {
    "collapsed": true
   },
   "outputs": [],
   "source": [
    "u,s,v = np.linalg.svd(test, full_matrices=False)"
   ]
  },
  {
   "cell_type": "code",
   "execution_count": 357,
   "metadata": {},
   "outputs": [
    {
     "data": {
      "text/plain": [
       "True"
      ]
     },
     "execution_count": 357,
     "metadata": {},
     "output_type": "execute_result"
    }
   ],
   "source": [
    "smat = np.diag(s)\n",
    "np.allclose(test, np.dot(u, np.dot(smat, v)))"
   ]
  },
  {
   "cell_type": "code",
   "execution_count": 416,
   "metadata": {
    "collapsed": true
   },
   "outputs": [],
   "source": [
    "class SVD():\n",
    "    \n",
    "    def __init__(self, learning_rate, n_epochs, n_factors, data, n_products, n_events):\n",
    "        self.lr = learning_rate  # learning rate for SGD\n",
    "        self.n_epochs = n_epochs  # number of iterations of SGD\n",
    "        self.n_factors = n_factors  # number of factors\n",
    "        self.volumes = data\n",
    "        self.n_products = n_products\n",
    "        self.n_events = n_events\n",
    "        \n",
    "    def fit(self):\n",
    "        # Randomly initialize the user and item factors.\n",
    "        p = np.random.normal(0.1, .1, (self.n_products, self.n_factors))\n",
    "        q = np.random.normal(0.1, .1, (self.n_events, self.n_factors))\n",
    "        \n",
    "        # SGD procedure\n",
    "        for _ in range(self.n_epochs):\n",
    "            for u, i, v_ui in self.volumes:\n",
    "                u = int(u)\n",
    "                i = int(i)\n",
    "                grad_p = 2*q[i]*(v_ui - np.dot(p[u], q[i]))\n",
    "                grad_q = 2*p[u]*(v_ui - np.dot(p[u], q[i]))\n",
    "                err = v_ui - np.dot(p[u], q[i])\n",
    "#                 print(err)\n",
    "                p[u] += self.lr * grad_p\n",
    "                q[i] += self.lr * grad_q\n",
    "#                 print(\"p = \", p[u])\n",
    "#                 print('q = ', q[i])\n",
    "\n",
    "        \n",
    "        self.p, self.q = p, q\n",
    "\n",
    "        \n",
    "    def estimate(self, u, i):\n",
    "        '''Return the estmimated rating of user u for item i.'''\n",
    "        \n",
    "        return np.dot(self.p[u], self.q[i])\n"
   ]
  },
  {
   "cell_type": "code",
   "execution_count": 417,
   "metadata": {},
   "outputs": [],
   "source": [
    "learning_rate = 0.01\n",
    "n_epochs = 100\n",
    "n_factors = 10 \n",
    "n_products = 20\n",
    "n_events = 10\n",
    "data = []\n",
    "for i in range(100):\n",
    "    u = np.random.randint(0,20,1)\n",
    "    i = np.random.randint(0,10,1)\n",
    "    v = np.random.normal(20, 5, 1)\n",
    "    data.append([u,i,v])\n",
    "data = np.array(data)\n",
    "\n",
    "\n",
    "svd = SVD(learning_rate, n_epochs, n_factors, data, n_products, n_events)\n",
    "svd.fit()"
   ]
  },
  {
   "cell_type": "code",
   "execution_count": 418,
   "metadata": {},
   "outputs": [
    {
     "data": {
      "text/plain": [
       "25.661009785843255"
      ]
     },
     "execution_count": 418,
     "metadata": {},
     "output_type": "execute_result"
    }
   ],
   "source": [
    "svd.estimate(17, 9)"
   ]
  },
  {
   "cell_type": "markdown",
   "metadata": {},
   "source": [
    "One problem is that this blows up really easily. Not sure why."
   ]
  },
  {
   "cell_type": "markdown",
   "metadata": {},
   "source": [
    "# KNN Clustering"
   ]
  },
  {
   "cell_type": "code",
   "execution_count": null,
   "metadata": {
    "collapsed": true
   },
   "outputs": [],
   "source": []
  }
 ],
 "metadata": {
  "kernelspec": {
   "display_name": "Python 3",
   "language": "python",
   "name": "python3"
  },
  "language_info": {
   "codemirror_mode": {
    "name": "ipython",
    "version": 3
   },
   "file_extension": ".py",
   "mimetype": "text/x-python",
   "name": "python",
   "nbconvert_exporter": "python",
   "pygments_lexer": "ipython3",
   "version": "3.6.3"
  }
 },
 "nbformat": 4,
 "nbformat_minor": 2
}
